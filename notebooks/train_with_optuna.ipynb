{
 "cells": [
  {
   "cell_type": "code",
   "execution_count": 1,
   "metadata": {},
   "outputs": [
    {
     "name": "stderr",
     "output_type": "stream",
     "text": [
      "<frozen importlib._bootstrap>:228: RuntimeWarning: scipy._lib.messagestream.MessageStream size changed, may indicate binary incompatibility. Expected 56 from C header, got 64 from PyObject\n"
     ]
    }
   ],
   "source": [
    "from sklearn.metrics import explained_variance_score\n",
    "from xgboost import XGBRegressor\n",
    "from sklearn.model_selection import train_test_split\n",
    "import pandas as pd\n",
    "import numpy as np\n",
    "import matplotlib.pyplot as plt\n",
    "\n",
    "import optuna\n",
    "from optuna import samplers\n",
    "from sklearn.model_selection import cross_val_score"
   ]
  },
  {
   "cell_type": "code",
   "execution_count": 2,
   "metadata": {},
   "outputs": [],
   "source": [
    "X = pd.read_csv(\"data_processed/train/X_train_processed.csv\", index_col=\"level_0\")\n",
    "Y = pd.read_csv(\"data_processed/train/labels_train_processed.csv\", index_col=\"level_0\")\n",
    "Xt = pd.read_csv(\"data_processed/test/X_test_processed.csv\", index_col=\"level_0\")"
   ]
  },
  {
   "cell_type": "code",
   "execution_count": 3,
   "metadata": {},
   "outputs": [],
   "source": [
    "X = X[:300_000]\n",
    "Y = Y[:300_000]\n",
    "y = Y[\"energy_consumption_per_annum\"]"
   ]
  },
  {
   "cell_type": "code",
   "execution_count": 4,
   "metadata": {},
   "outputs": [],
   "source": [
    "X_train, X_test, y_train, y_test = train_test_split(\n",
    "    X, y, random_state=42, shuffle=True, test_size=0.2\n",
    ")"
   ]
  },
  {
   "cell_type": "code",
   "execution_count": 5,
   "metadata": {},
   "outputs": [
    {
     "name": "stdout",
     "output_type": "stream",
     "text": [
      "0.7728789054220253\n"
     ]
    }
   ],
   "source": [
    "xgb_hyp = XGBRegressor(max_depth=6, n_estimators=164)\n",
    "xgb_hyp.fit(X_train, y_train)\n",
    "y_pred = xgb_hyp.predict(X_test)\n",
    "print(explained_variance_score(y_test, y_pred))"
   ]
  },
  {
   "cell_type": "code",
   "execution_count": 17,
   "metadata": {},
   "outputs": [],
   "source": [
    "y_pred_xt = xgb_hyp.predict(Xt)\n",
    "y_pred_xt = pd.DataFrame(y_pred_xt, index=Xt.index)\n",
    "y_pred_xt.columns = [\"energy_consumption_per_annum\"]\n",
    "y_pred_xt.to_csv(\"predictions_xgb.csv\")"
   ]
  },
  {
   "cell_type": "code",
   "execution_count": 11,
   "metadata": {},
   "outputs": [
    {
     "name": "stderr",
     "output_type": "stream",
     "text": [
      "\u001B[32m[I 2023-01-15 12:54:40,510]\u001B[0m A new study created in memory with name: no-name-790ebae6-52d6-4d93-b012-2f39aa07ecdb\u001B[0m\n",
      "/opt/anaconda3/lib/python3.9/site-packages/optuna/progress_bar.py:49: ExperimentalWarning: Progress bar is experimental (supported from v1.2.0). The interface can change in the future.\n",
      "  self._init_valid()\n"
     ]
    },
    {
     "data": {
      "application/vnd.jupyter.widget-view+json": {
       "model_id": "0952720195e64962a98b39b5dca77863",
       "version_major": 2,
       "version_minor": 0
      },
      "text/plain": [
       "  0%|          | 0/10 [00:00<?, ?it/s]"
      ]
     },
     "metadata": {},
     "output_type": "display_data"
    },
    {
     "name": "stderr",
     "output_type": "stream",
     "text": [
      "[Parallel(n_jobs=-1)]: Using backend LokyBackend with 8 concurrent workers.\n",
      "[Parallel(n_jobs=-1)]: Using backend LokyBackend with 8 concurrent workers.\n",
      "[Parallel(n_jobs=-1)]: Using backend LokyBackend with 8 concurrent workers.\n",
      "[Parallel(n_jobs=-1)]: Using backend LokyBackend with 8 concurrent workers.\n",
      "[Parallel(n_jobs=-1)]: Using backend LokyBackend with 8 concurrent workers.\n",
      "[Parallel(n_jobs=-1)]: Using backend LokyBackend with 8 concurrent workers.\n",
      "[Parallel(n_jobs=-1)]: Using backend LokyBackend with 8 concurrent workers.\n",
      "[Parallel(n_jobs=-1)]: Using backend LokyBackend with 8 concurrent workers.\n",
      "<frozen importlib._bootstrap>:228: RuntimeWarning: scipy._lib.messagestream.MessageStream size changed, may indicate binary incompatibility. Expected 56 from C header, got 64 from PyObject\n",
      "<frozen importlib._bootstrap>:228: RuntimeWarning: scipy._lib.messagestream.MessageStream size changed, may indicate binary incompatibility. Expected 56 from C header, got 64 from PyObject\n",
      "<frozen importlib._bootstrap>:228: RuntimeWarning: scipy._lib.messagestream.MessageStream size changed, may indicate binary incompatibility. Expected 56 from C header, got 64 from PyObject\n",
      "<frozen importlib._bootstrap>:228: RuntimeWarning: scipy._lib.messagestream.MessageStream size changed, may indicate binary incompatibility. Expected 56 from C header, got 64 from PyObject\n",
      "<frozen importlib._bootstrap>:228: RuntimeWarning: scipy._lib.messagestream.MessageStream size changed, may indicate binary incompatibility. Expected 56 from C header, got 64 from PyObject\n",
      "<frozen importlib._bootstrap>:228: RuntimeWarning: scipy._lib.messagestream.MessageStream size changed, may indicate binary incompatibility. Expected 56 from C header, got 64 from PyObject\n",
      "<frozen importlib._bootstrap>:228: RuntimeWarning: scipy._lib.messagestream.MessageStream size changed, may indicate binary incompatibility. Expected 56 from C header, got 64 from PyObject\n",
      "<frozen importlib._bootstrap>:228: RuntimeWarning: scipy._lib.messagestream.MessageStream size changed, may indicate binary incompatibility. Expected 56 from C header, got 64 from PyObject\n",
      "[Parallel(n_jobs=-1)]: Done   2 out of   2 | elapsed:  2.5min remaining:    0.0s\n",
      "[Parallel(n_jobs=-1)]: Done   2 out of   2 | elapsed:  2.5min finished\n"
     ]
    },
    {
     "name": "stdout",
     "output_type": "stream",
     "text": [
      "[CV] END ................................ score: (test=0.758) total time= 2.5min\n",
      "[CV] END ................................ score: (test=0.762) total time= 2.5min\n",
      "\u001B[32m[I 2023-01-15 12:57:12,999]\u001B[0m Trial 3 finished with value: 0.7598194034942123 and parameters: {'max_depth': 4, 'n_estimators': 449, 'eta': 0.1884018578059759, 'colsample_bytree': 0.6611499347537041}. Best is trial 3 with value: 0.7598194034942123.\u001B[0m\n"
     ]
    },
    {
     "name": "stderr",
     "output_type": "stream",
     "text": [
      "[Parallel(n_jobs=-1)]: Using backend LokyBackend with 8 concurrent workers.\n"
     ]
    },
    {
     "name": "stdout",
     "output_type": "stream",
     "text": [
      "[CV] END ................................ score: (test=0.774) total time= 7.0min\n",
      "[CV] END ................................ score: (test=0.776) total time= 7.0min\n"
     ]
    },
    {
     "name": "stderr",
     "output_type": "stream",
     "text": [
      "[Parallel(n_jobs=-1)]: Done   2 out of   2 | elapsed:  7.0min remaining:    0.0s\n",
      "[Parallel(n_jobs=-1)]: Done   2 out of   2 | elapsed:  7.0min finished\n",
      "[Parallel(n_jobs=-1)]: Using backend LokyBackend with 8 concurrent workers.\n"
     ]
    },
    {
     "name": "stdout",
     "output_type": "stream",
     "text": [
      "\u001B[32m[I 2023-01-15 13:01:42,841]\u001B[0m Trial 1 finished with value: 0.7749299839914023 and parameters: {'max_depth': 6, 'n_estimators': 906, 'eta': 0.07418610772367254, 'colsample_bytree': 0.566395067762454}. Best is trial 1 with value: 0.7749299839914023.\u001B[0m\n",
      "[CV] END ................................ score: (test=0.756) total time= 5.5min\n"
     ]
    },
    {
     "name": "stderr",
     "output_type": "stream",
     "text": [
      "[Parallel(n_jobs=-1)]: Done   2 out of   2 | elapsed:  8.3min remaining:    0.0s\n",
      "[Parallel(n_jobs=-1)]: Done   2 out of   2 | elapsed:  8.3min finished\n"
     ]
    },
    {
     "name": "stdout",
     "output_type": "stream",
     "text": [
      "[CV] END ................................ score: (test=0.754) total time= 5.8min\n",
      "\u001B[32m[I 2023-01-15 13:03:00,908]\u001B[0m Trial 5 finished with value: 0.7554203055321855 and parameters: {'max_depth': 3, 'n_estimators': 956, 'eta': 0.13352619730044368, 'colsample_bytree': 0.9059041701005918}. Best is trial 1 with value: 0.7749299839914023.\u001B[0m\n",
      "[CV] END ................................ score: (test=0.765) total time= 9.0min\n"
     ]
    },
    {
     "name": "stderr",
     "output_type": "stream",
     "text": [
      "[Parallel(n_jobs=-1)]: Done   2 out of   2 | elapsed: 10.6min remaining:    0.0s\n",
      "[Parallel(n_jobs=-1)]: Done   2 out of   2 | elapsed: 10.6min finished\n"
     ]
    },
    {
     "name": "stdout",
     "output_type": "stream",
     "text": [
      "[CV] END ................................ score: (test=0.764) total time=10.5min\n",
      "\u001B[32m[I 2023-01-15 13:05:15,364]\u001B[0m Trial 0 finished with value: 0.7645546371371077 and parameters: {'max_depth': 7, 'n_estimators': 826, 'eta': 0.02633421007019914, 'colsample_bytree': 0.8164666653719898}. Best is trial 1 with value: 0.7749299839914023.\u001B[0m\n",
      "[CV] END ................................ score: (test=0.737) total time= 1.7min\n",
      "[CV] END ................................ score: (test=0.697) total time= 2.7min\n"
     ]
    },
    {
     "name": "stderr",
     "output_type": "stream",
     "text": [
      "[Parallel(n_jobs=-1)]: Done   2 out of   2 | elapsed: 11.3min remaining:    0.0s\n",
      "[Parallel(n_jobs=-1)]: Done   2 out of   2 | elapsed: 11.3min finished\n"
     ]
    },
    {
     "name": "stdout",
     "output_type": "stream",
     "text": [
      "[CV] END ................................ score: (test=0.698) total time= 3.2min\n",
      "\u001B[32m[I 2023-01-15 13:05:56,118]\u001B[0m Trial 7 finished with value: 0.6976608089342639 and parameters: {'max_depth': 4, 'n_estimators': 594, 'eta': 0.02310859041052838, 'colsample_bytree': 0.5701136770712346}. Best is trial 1 with value: 0.7749299839914023.\u001B[0m\n"
     ]
    },
    {
     "name": "stderr",
     "output_type": "stream",
     "text": [
      "[Parallel(n_jobs=-1)]: Done   2 out of   2 | elapsed: 12.3min remaining:    0.0s\n",
      "[Parallel(n_jobs=-1)]: Done   2 out of   2 | elapsed: 12.3min finished\n"
     ]
    },
    {
     "name": "stdout",
     "output_type": "stream",
     "text": [
      "[CV] END ................................ score: (test=0.736) total time= 1.7min\n",
      "\u001B[32m[I 2023-01-15 13:06:59,195]\u001B[0m Trial 4 finished with value: 0.7362665307770779 and parameters: {'max_depth': 4, 'n_estimators': 321, 'eta': 0.10558082325646433, 'colsample_bytree': 0.5718551538129679}. Best is trial 1 with value: 0.7749299839914023.\u001B[0m\n",
      "[CV] END ................................ score: (test=0.758) total time= 2.1min\n"
     ]
    },
    {
     "name": "stderr",
     "output_type": "stream",
     "text": [
      "[Parallel(n_jobs=-1)]: Done   2 out of   2 | elapsed: 10.7min remaining:    0.0s\n",
      "[Parallel(n_jobs=-1)]: Done   2 out of   2 | elapsed: 10.7min finished\n"
     ]
    },
    {
     "name": "stdout",
     "output_type": "stream",
     "text": [
      "[CV] END ................................ score: (test=0.757) total time= 2.2min\n",
      "\u001B[32m[I 2023-01-15 13:07:53,276]\u001B[0m Trial 8 finished with value: 0.7571735679831159 and parameters: {'max_depth': 8, 'n_estimators': 199, 'eta': 0.06875250328647936, 'colsample_bytree': 0.5870618601222806}. Best is trial 1 with value: 0.7749299839914023.\u001B[0m\n",
      "[CV] END ................................ score: (test=0.741) total time= 6.2min\n"
     ]
    },
    {
     "name": "stderr",
     "output_type": "stream",
     "text": [
      "[Parallel(n_jobs=-1)]: Done   2 out of   2 | elapsed: 13.2min remaining:    0.0s\n",
      "[Parallel(n_jobs=-1)]: Done   2 out of   2 | elapsed: 13.2min finished\n"
     ]
    },
    {
     "name": "stdout",
     "output_type": "stream",
     "text": [
      "[CV] END ................................ score: (test=0.742) total time= 6.2min\n",
      "\u001B[32m[I 2023-01-15 13:07:55,288]\u001B[0m Trial 6 finished with value: 0.7415524554282834 and parameters: {'max_depth': 6, 'n_estimators': 628, 'eta': 0.023839874559311434, 'colsample_bytree': 0.7267069408649993}. Best is trial 1 with value: 0.7749299839914023.\u001B[0m\n",
      "[CV] END ................................ score: (test=0.776) total time=13.8min\n",
      "[CV] END ................................ score: (test=0.718) total time= 3.4min\n"
     ]
    },
    {
     "name": "stderr",
     "output_type": "stream",
     "text": [
      "[Parallel(n_jobs=-1)]: Done   2 out of   2 | elapsed: 14.8min remaining:    0.0s\n",
      "[Parallel(n_jobs=-1)]: Done   2 out of   2 | elapsed: 14.8min finished\n"
     ]
    },
    {
     "name": "stdout",
     "output_type": "stream",
     "text": [
      "[CV] END ................................ score: (test=0.773) total time=14.8min\n",
      "\u001B[32m[I 2023-01-15 13:09:30,819]\u001B[0m Trial 2 finished with value: 0.7744715206864696 and parameters: {'max_depth': 9, 'n_estimators': 959, 'eta': 0.04053953953150947, 'colsample_bytree': 0.8426780022998981}. Best is trial 1 with value: 0.7749299839914023.\u001B[0m\n"
     ]
    },
    {
     "name": "stderr",
     "output_type": "stream",
     "text": [
      "[Parallel(n_jobs=-1)]: Done   2 out of   2 | elapsed:  8.4min remaining:    0.0s\n",
      "[Parallel(n_jobs=-1)]: Done   2 out of   2 | elapsed:  8.4min finished\n"
     ]
    },
    {
     "name": "stdout",
     "output_type": "stream",
     "text": [
      "[CV] END ................................ score: (test=0.717) total time= 3.1min\n",
      "\u001B[32m[I 2023-01-15 13:10:05,201]\u001B[0m Trial 9 finished with value: 0.7177343998846961 and parameters: {'max_depth': 3, 'n_estimators': 678, 'eta': 0.06110014822917703, 'colsample_bytree': 0.8697205818494951}. Best is trial 1 with value: 0.7749299839914023.\u001B[0m\n",
      "{'max_depth': 6, 'n_estimators': 906, 'eta': 0.07418610772367254, 'colsample_bytree': 0.566395067762454}\n",
      "0.7749299839914023\n"
     ]
    }
   ],
   "source": [
    "# Tuning with optuna\n",
    "def objective(trial):\n",
    "    max_depth = trial.suggest_int(\"max_depth\", 3, 10)\n",
    "    n_estimators = trial.suggest_int(\"n_estimators\", 100, 1000)\n",
    "    eta = trial.suggest_float(\"eta\", 0.01, 0.2, log=True)\n",
    "    colsample_bytree = trial.suggest_float(\"colsample_bytree\", 0.5, 1, log=True)\n",
    "    reg = XGBRegressor(\n",
    "        **trial.params,\n",
    "        random_state=42,\n",
    "    )\n",
    "\n",
    "    return np.mean(\n",
    "        cross_val_score(\n",
    "            reg,\n",
    "            X_train,\n",
    "            y_train,\n",
    "            cv=2,\n",
    "            n_jobs=-1,\n",
    "            scoring=\"explained_variance\",\n",
    "            verbose=3,\n",
    "        )\n",
    "    )\n",
    "\n",
    "\n",
    "sampler = samplers.TPESampler(seed=10)\n",
    "study = optuna.create_study(sampler=sampler, direction=\"maximize\")\n",
    "optuna.logging.disable_default_handler()  # limit verbosity\n",
    "study.optimize(objective, n_trials=10, n_jobs=-1, show_progress_bar=True)\n",
    "\n",
    "# Show best result\n",
    "print(study.best_trial.params)\n",
    "print(study.best_trial.value)"
   ]
  },
  {
   "cell_type": "code",
   "execution_count": 13,
   "metadata": {},
   "outputs": [
    {
     "name": "stdout",
     "output_type": "stream",
     "text": [
      "0.7912705536827069\n"
     ]
    }
   ],
   "source": [
    "xgb_hyp = XGBRegressor(\n",
    "    max_depth=6,\n",
    "    n_estimators=906,\n",
    "    eta=0.07418610772367254,\n",
    "    colsample_bytree=0.566395067762454,\n",
    ")\n",
    "xgb_hyp.fit(X_train, y_train)\n",
    "y_pred = xgb_hyp.predict(X_test)\n",
    "print(explained_variance_score(y_test, y_pred))"
   ]
  },
  {
   "cell_type": "code",
   "execution_count": 16,
   "metadata": {},
   "outputs": [],
   "source": [
    "y_pred_xt = xgb_hyp.predict(Xt)\n",
    "y_pred_xt = pd.DataFrame(y_pred_xt, index=Xt.index)\n",
    "y_pred_xt.columns = [\"energy_consumption_per_annum\"]\n",
    "y_pred_xt.to_csv(\"predictions_xgb_hyp.csv\")"
   ]
  },
  {
   "cell_type": "code",
   "execution_count": 6,
   "metadata": {},
   "outputs": [],
   "source": [
    "def best_features(model, X_train, threshold):\n",
    "    features_importances = []\n",
    "    index_best_features = []\n",
    "    list_results = model.feature_importances_.tolist()\n",
    "    best_features = []\n",
    "    for i in range(len(list_results)):\n",
    "        if list_results[i] > threshold:\n",
    "            index_best_features.append(i)\n",
    "            features_importances.append(list_results[i])\n",
    "            best_features.append(X_train.columns[i])\n",
    "    return best_features, features_importances"
   ]
  },
  {
   "cell_type": "code",
   "execution_count": 11,
   "metadata": {},
   "outputs": [
    {
     "data": {
      "image/png": "[encoded data removed]",
      "text/plain": [
       "<Figure size 432x288 with 1 Axes>"
      ]
     },
     "metadata": {
      "needs_background": "light"
     },
     "output_type": "display_data"
    }
   ],
   "source": [
    "best_features_xgb, features_importance_xgb = best_features(xgb_hyp, X_train, 0.02)\n",
    "\n",
    "pd.DataFrame(features_importance_xgb, index=best_features_xgb).sort_values(\n",
    "    0, ascending=False\n",
    ").plot.bar(color=\"purple\")\n",
    "plt.suptitle(\"Feature importances for XGBRegressor\")\n",
    "plt.legend()\n",
    "plt.show()"
   ]
  },
  {
   "cell_type": "code",
   "execution_count": 66,
   "metadata": {},
   "outputs": [
    {
     "data": {
      "text/plain": [
       "['best_model.joblib']"
      ]
     },
     "execution_count": 66,
     "metadata": {},
     "output_type": "execute_result"
    }
   ],
   "source": [
    "# filename = \"best_model.joblib\"\n",
    "# joblib.dump(xgb_hyp, filename)"
   ]
  },
  {
   "cell_type": "code",
   "execution_count": null,
   "metadata": {},
   "outputs": [],
   "source": []
  }
 ],
 "metadata": {
  "kernelspec": {
   "display_name": "Python 3.9.12 ('base')",
   "language": "python",
   "name": "python3"
  },
  "language_info": {
   "codemirror_mode": {
    "name": "ipython",
    "version": 3
   },
   "file_extension": ".py",
   "mimetype": "text/x-python",
   "name": "python",
   "nbconvert_exporter": "python",
   "pygments_lexer": "ipython3",
   "version": "3.9.12"
  },
  "orig_nbformat": 4,
  "vscode": {
   "interpreter": {
    "hash": "40d3a090f54c6569ab1632332b64b2c03c39dcf918b08424e98f38b5ae0af88f"
   }
  }
 },
 "nbformat": 4,
 "nbformat_minor": 2
}
