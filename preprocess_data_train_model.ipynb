{
 "cells": [
  {
   "cell_type": "code",
   "execution_count": null,
   "outputs": [],
   "source": [
    "!pip install -r requirements.txt"
   ],
   "metadata": {
    "collapsed": false
   }
  },
  {
   "cell_type": "code",
   "execution_count": null,
   "outputs": [],
   "source": [
    "from preprocessing.preprocess_data import preprocess\n",
    "\n",
    "from xgboost import XGBRegressor\n",
    "import os\n",
    "from pathlib import Path\n",
    "import pandas as pd\n",
    "import joblib"
   ],
   "metadata": {
    "collapsed": false
   }
  },
  {
   "cell_type": "code",
   "execution_count": null,
   "metadata": {
    "collapsed": false
   },
   "outputs": [],
   "source": [
    "data_dir = \"data\"\n",
    "output_dir = \"data_processed\"\n",
    "model_file = \"model.joblib\""
   ]
  },
  {
   "cell_type": "markdown",
   "metadata": {
    "collapsed": false
   },
   "source": [
    "# Download data\n",
    "\n",
    "Execute the file `download_data.py` to get the original data"
   ]
  },
  {
   "cell_type": "code",
   "execution_count": null,
   "metadata": {
    "collapsed": false
   },
   "outputs": [],
   "source": [
    "%%capture\n",
    "if not os.path.exists(data_dir):\n",
    "    !python download_data.py"
   ]
  },
  {
   "cell_type": "markdown",
   "metadata": {
    "collapsed": false
   },
   "source": [
    "# Preprocess the data\n",
    "\n",
    "Run the preprocess of the data and save output in `output_dir`"
   ]
  },
  {
   "cell_type": "code",
   "execution_count": null,
   "metadata": {
    "collapsed": false,
    "pycharm": {
     "is_executing": true
    }
   },
   "outputs": [],
   "source": [
    "if not os.path.exists(output_dir):\n",
    "    preprocess(Path(data_dir), Path(output_dir))"
   ]
  },
  {
   "cell_type": "markdown",
   "metadata": {
    "collapsed": false
   },
   "source": [
    "# Load data\n",
    "\n",
    "Load preprocessed data and labels from CSVs"
   ]
  },
  {
   "cell_type": "code",
   "execution_count": null,
   "metadata": {
    "collapsed": false
   },
   "outputs": [],
   "source": [
    "data_train = pd.read_csv(\n",
    "    Path(output_dir) / \"train/X_train_processed.csv\", index_col=\"level_0\"\n",
    ")\n",
    "labels_train = pd.read_csv(\n",
    "    Path(output_dir) / \"train/labels_train_processed.csv\", index_col=\"level_0\"\n",
    ")"
   ]
  },
  {
   "cell_type": "markdown",
   "source": [
    "# Limit data for faster models"
   ],
   "metadata": {
    "collapsed": false
   }
  },
  {
   "cell_type": "code",
   "execution_count": null,
   "outputs": [],
   "source": [
    "data_train_sub = data_train[:300_000]\n",
    "labels_train_sub = labels_train[:300_000]"
   ],
   "metadata": {
    "collapsed": false
   }
  },
  {
   "cell_type": "markdown",
   "metadata": {
    "collapsed": false
   },
   "source": [
    "# Train\n",
    "\n",
    "Fit the model on the train data and labels\n",
    "\n",
    "## Best parameters\n",
    "\n",
    "Here is the best parameters we found :\n",
    "\n",
    "```python\n",
    "{\n",
    "    \"max_depth\":10,\n",
    "    \"n_estimators\":935,\n",
    "    \"eta\":0.061178,\n",
    "    \"colsample_bytree\":0.546984\n",
    "}\n",
    "```"
   ]
  },
  {
   "cell_type": "code",
   "execution_count": null,
   "metadata": {
    "collapsed": false
   },
   "outputs": [],
   "source": [
    "# params to go faster\n",
    "params = {\n",
    "    \"max_depth\": 6,\n",
    "    \"n_estimators\": 135,\n",
    "    \"eta\": 0.061178,\n",
    "    \"colsample_bytree\": 0.546984,\n",
    "}\n",
    "\n",
    "xgb = XGBRegressor(**params, n_jobs=-1)\n",
    "xgb.fit(data_train_sub, labels_train_sub[\"energy_consumption_per_annum\"].squeeze())"
   ]
  },
  {
   "cell_type": "code",
   "execution_count": null,
   "metadata": {},
   "outputs": [],
   "source": [
    "# Export the model\n",
    "\n",
    "joblib.dump(xgb, model_file)"
   ]
  }
 ],
 "metadata": {
  "kernelspec": {
   "display_name": "base",
   "language": "python",
   "name": "python3"
  },
  "language_info": {
   "codemirror_mode": {
    "name": "ipython",
    "version": 3
   },
   "file_extension": ".py",
   "mimetype": "text/x-python",
   "name": "python",
   "nbconvert_exporter": "python",
   "pygments_lexer": "ipython3",
   "version": "3.9.13"
  },
  "vscode": {
   "interpreter": {
    "hash": "0a4c350da27618d5732fc58ebcab8d2c0381c51b7361f332741f21e30512bbdd"
   }
  }
 },
 "nbformat": 4,
 "nbformat_minor": 0
}
